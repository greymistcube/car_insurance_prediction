{
 "cells": [
  {
   "cell_type": "code",
   "execution_count": 1,
   "metadata": {
    "collapsed": true
   },
   "outputs": [],
   "source": [
    "%matplotlib inline"
   ]
  },
  {
   "cell_type": "code",
   "execution_count": 2,
   "metadata": {
    "collapsed": true
   },
   "outputs": [],
   "source": [
    "import numpy as np\n",
    "import pandas as pd\n",
    "import re\n",
    "import seaborn as sns"
   ]
  },
  {
   "cell_type": "markdown",
   "metadata": {},
   "source": [
    "## Importing Data"
   ]
  },
  {
   "cell_type": "code",
   "execution_count": 3,
   "metadata": {},
   "outputs": [],
   "source": [
    "# importing column labels from imports-85.names\n",
    "# we also determine which features are numerical and which are categorical\n",
    "feature_names = []\n",
    "feature_num = []\n",
    "feature_cat = []\n",
    "\n",
    "regex = re.compile('\\d+\\.\\s(\\S+):\\s\\s\\s\\s+(\\S+)')\n",
    "with open('imports-85.names') as f:\n",
    "    for line in f:\n",
    "        match = regex.search(line)\n",
    "        try:\n",
    "            feature_names.append(match.group(1))\n",
    "            if match.group(2) == 'continuous':\n",
    "                feature_num.append(match.group(1))\n",
    "            else:\n",
    "                feature_cat.append(match.group(1))\n",
    "        except:\n",
    "            pass"
   ]
  },
  {
   "cell_type": "code",
   "execution_count": 4,
   "metadata": {},
   "outputs": [
    {
     "data": {
      "text/html": [
       "<div>\n",
       "<style>\n",
       "    .dataframe thead tr:only-child th {\n",
       "        text-align: right;\n",
       "    }\n",
       "\n",
       "    .dataframe thead th {\n",
       "        text-align: left;\n",
       "    }\n",
       "\n",
       "    .dataframe tbody tr th {\n",
       "        vertical-align: top;\n",
       "    }\n",
       "</style>\n",
       "<table border=\"1\" class=\"dataframe\">\n",
       "  <thead>\n",
       "    <tr style=\"text-align: right;\">\n",
       "      <th></th>\n",
       "      <th>normalized-losses</th>\n",
       "      <th>make</th>\n",
       "      <th>fuel-type</th>\n",
       "      <th>aspiration</th>\n",
       "      <th>num-of-doors</th>\n",
       "      <th>body-style</th>\n",
       "      <th>drive-wheels</th>\n",
       "      <th>engine-location</th>\n",
       "      <th>wheel-base</th>\n",
       "      <th>length</th>\n",
       "      <th>...</th>\n",
       "      <th>engine-size</th>\n",
       "      <th>fuel-system</th>\n",
       "      <th>bore</th>\n",
       "      <th>stroke</th>\n",
       "      <th>compression-ratio</th>\n",
       "      <th>horsepower</th>\n",
       "      <th>peak-rpm</th>\n",
       "      <th>city-mpg</th>\n",
       "      <th>highway-mpg</th>\n",
       "      <th>price</th>\n",
       "    </tr>\n",
       "  </thead>\n",
       "  <tbody>\n",
       "    <tr>\n",
       "      <th>3</th>\n",
       "      <td>164</td>\n",
       "      <td>audi</td>\n",
       "      <td>gas</td>\n",
       "      <td>std</td>\n",
       "      <td>four</td>\n",
       "      <td>sedan</td>\n",
       "      <td>fwd</td>\n",
       "      <td>front</td>\n",
       "      <td>99.80</td>\n",
       "      <td>176.60</td>\n",
       "      <td>...</td>\n",
       "      <td>109</td>\n",
       "      <td>mpfi</td>\n",
       "      <td>3.19</td>\n",
       "      <td>3.40</td>\n",
       "      <td>10.00</td>\n",
       "      <td>102</td>\n",
       "      <td>5500</td>\n",
       "      <td>24</td>\n",
       "      <td>30</td>\n",
       "      <td>13950</td>\n",
       "    </tr>\n",
       "    <tr>\n",
       "      <th>4</th>\n",
       "      <td>164</td>\n",
       "      <td>audi</td>\n",
       "      <td>gas</td>\n",
       "      <td>std</td>\n",
       "      <td>four</td>\n",
       "      <td>sedan</td>\n",
       "      <td>4wd</td>\n",
       "      <td>front</td>\n",
       "      <td>99.40</td>\n",
       "      <td>176.60</td>\n",
       "      <td>...</td>\n",
       "      <td>136</td>\n",
       "      <td>mpfi</td>\n",
       "      <td>3.19</td>\n",
       "      <td>3.40</td>\n",
       "      <td>8.00</td>\n",
       "      <td>115</td>\n",
       "      <td>5500</td>\n",
       "      <td>18</td>\n",
       "      <td>22</td>\n",
       "      <td>17450</td>\n",
       "    </tr>\n",
       "    <tr>\n",
       "      <th>6</th>\n",
       "      <td>158</td>\n",
       "      <td>audi</td>\n",
       "      <td>gas</td>\n",
       "      <td>std</td>\n",
       "      <td>four</td>\n",
       "      <td>sedan</td>\n",
       "      <td>fwd</td>\n",
       "      <td>front</td>\n",
       "      <td>105.80</td>\n",
       "      <td>192.70</td>\n",
       "      <td>...</td>\n",
       "      <td>136</td>\n",
       "      <td>mpfi</td>\n",
       "      <td>3.19</td>\n",
       "      <td>3.40</td>\n",
       "      <td>8.50</td>\n",
       "      <td>110</td>\n",
       "      <td>5500</td>\n",
       "      <td>19</td>\n",
       "      <td>25</td>\n",
       "      <td>17710</td>\n",
       "    </tr>\n",
       "    <tr>\n",
       "      <th>8</th>\n",
       "      <td>158</td>\n",
       "      <td>audi</td>\n",
       "      <td>gas</td>\n",
       "      <td>turbo</td>\n",
       "      <td>four</td>\n",
       "      <td>sedan</td>\n",
       "      <td>fwd</td>\n",
       "      <td>front</td>\n",
       "      <td>105.80</td>\n",
       "      <td>192.70</td>\n",
       "      <td>...</td>\n",
       "      <td>131</td>\n",
       "      <td>mpfi</td>\n",
       "      <td>3.13</td>\n",
       "      <td>3.40</td>\n",
       "      <td>8.30</td>\n",
       "      <td>140</td>\n",
       "      <td>5500</td>\n",
       "      <td>17</td>\n",
       "      <td>20</td>\n",
       "      <td>23875</td>\n",
       "    </tr>\n",
       "    <tr>\n",
       "      <th>10</th>\n",
       "      <td>192</td>\n",
       "      <td>bmw</td>\n",
       "      <td>gas</td>\n",
       "      <td>std</td>\n",
       "      <td>two</td>\n",
       "      <td>sedan</td>\n",
       "      <td>rwd</td>\n",
       "      <td>front</td>\n",
       "      <td>101.20</td>\n",
       "      <td>176.80</td>\n",
       "      <td>...</td>\n",
       "      <td>108</td>\n",
       "      <td>mpfi</td>\n",
       "      <td>3.50</td>\n",
       "      <td>2.80</td>\n",
       "      <td>8.80</td>\n",
       "      <td>101</td>\n",
       "      <td>5800</td>\n",
       "      <td>23</td>\n",
       "      <td>29</td>\n",
       "      <td>16430</td>\n",
       "    </tr>\n",
       "  </tbody>\n",
       "</table>\n",
       "<p>5 rows × 25 columns</p>\n",
       "</div>"
      ],
      "text/plain": [
       "   normalized-losses  make fuel-type aspiration num-of-doors body-style  \\\n",
       "3                164  audi       gas        std         four      sedan   \n",
       "4                164  audi       gas        std         four      sedan   \n",
       "6                158  audi       gas        std         four      sedan   \n",
       "8                158  audi       gas      turbo         four      sedan   \n",
       "10               192   bmw       gas        std          two      sedan   \n",
       "\n",
       "   drive-wheels engine-location wheel-base  length  ...   engine-size  \\\n",
       "3           fwd           front      99.80  176.60  ...           109   \n",
       "4           4wd           front      99.40  176.60  ...           136   \n",
       "6           fwd           front     105.80  192.70  ...           136   \n",
       "8           fwd           front     105.80  192.70  ...           131   \n",
       "10          rwd           front     101.20  176.80  ...           108   \n",
       "\n",
       "   fuel-system  bore stroke compression-ratio horsepower peak-rpm city-mpg  \\\n",
       "3         mpfi  3.19   3.40             10.00        102     5500       24   \n",
       "4         mpfi  3.19   3.40              8.00        115     5500       18   \n",
       "6         mpfi  3.19   3.40              8.50        110     5500       19   \n",
       "8         mpfi  3.13   3.40              8.30        140     5500       17   \n",
       "10        mpfi  3.50   2.80              8.80        101     5800       23   \n",
       "\n",
       "   highway-mpg  price  \n",
       "3           30  13950  \n",
       "4           22  17450  \n",
       "6           25  17710  \n",
       "8           20  23875  \n",
       "10          29  16430  \n",
       "\n",
       "[5 rows x 25 columns]"
      ]
     },
     "execution_count": 4,
     "metadata": {},
     "output_type": "execute_result"
    }
   ],
   "source": [
    "# import data\n",
    "# read '?' string as nan\n",
    "df = pd.read_csv('imports-85.data', header=None, dtype=str, na_values='?')\n",
    "\n",
    "# name the columns\n",
    "df.columns = feature_names\n",
    "\n",
    "# drop symboling column as instructed\n",
    "df = df.drop('symboling', axis=1)\n",
    "feature_names.remove('symboling')\n",
    "feature_cat.remove('symboling')\n",
    "\n",
    "# drop all rows with nan as instructed\n",
    "df = df.dropna()\n",
    "\n",
    "# just a quick glance at the data\n",
    "df.head(5)"
   ]
  },
  {
   "cell_type": "markdown",
   "metadata": {},
   "source": [
    "## Preprocessing"
   ]
  },
  {
   "cell_type": "code",
   "execution_count": 5,
   "metadata": {},
   "outputs": [],
   "source": [
    "# converting (as read) string values to float\n",
    "df[feature_num] = df[feature_num].astype(np.float)"
   ]
  },
  {
   "cell_type": "code",
   "execution_count": 6,
   "metadata": {},
   "outputs": [],
   "source": [
    "# dummifying categorical columns\n",
    "for feature in feature_cat:\n",
    "    df = df.merge(pd.get_dummies(df.loc[:, feature]), left_index=True, right_index=True)\n",
    "df = df.drop(feature_cat, axis=1)"
   ]
  },
  {
   "cell_type": "code",
   "execution_count": 7,
   "metadata": {},
   "outputs": [
    {
     "data": {
      "text/plain": [
       "2"
      ]
     },
     "execution_count": 7,
     "metadata": {},
     "output_type": "execute_result"
    }
   ],
   "source": [
    "# every column should be of type float64 or uint8 at this point\n",
    "df.dtypes.nunique()"
   ]
  },
  {
   "cell_type": "code",
   "execution_count": 8,
   "metadata": {},
   "outputs": [
    {
     "data": {
      "text/plain": [
       "front     1\n",
       "gas       2\n",
       "std       2\n",
       "turbo     2\n",
       "four_x    2\n",
       "dtype: int64"
      ]
     },
     "execution_count": 8,
     "metadata": {},
     "output_type": "execute_result"
    }
   ],
   "source": [
    "df.nunique().sort_values().head(5)"
   ]
  },
  {
   "cell_type": "code",
   "execution_count": 9,
   "metadata": {
    "collapsed": true
   },
   "outputs": [],
   "source": [
    "# since a feature with constant value is of no use we drop it from the dataframe\n",
    "df = df.drop('front', axis=1)"
   ]
  },
  {
   "cell_type": "code",
   "execution_count": 10,
   "metadata": {},
   "outputs": [
    {
     "data": {
      "text/html": [
       "<div>\n",
       "<style>\n",
       "    .dataframe thead tr:only-child th {\n",
       "        text-align: right;\n",
       "    }\n",
       "\n",
       "    .dataframe thead th {\n",
       "        text-align: left;\n",
       "    }\n",
       "\n",
       "    .dataframe tbody tr th {\n",
       "        vertical-align: top;\n",
       "    }\n",
       "</style>\n",
       "<table border=\"1\" class=\"dataframe\">\n",
       "  <thead>\n",
       "    <tr style=\"text-align: right;\">\n",
       "      <th></th>\n",
       "      <th>normalized-losses</th>\n",
       "      <th>wheel-base</th>\n",
       "      <th>length</th>\n",
       "      <th>width</th>\n",
       "      <th>height</th>\n",
       "      <th>curb-weight</th>\n",
       "      <th>engine-size</th>\n",
       "      <th>bore</th>\n",
       "      <th>stroke</th>\n",
       "      <th>compression-ratio</th>\n",
       "      <th>...</th>\n",
       "      <th>five</th>\n",
       "      <th>four_y</th>\n",
       "      <th>six</th>\n",
       "      <th>three</th>\n",
       "      <th>1bbl</th>\n",
       "      <th>2bbl</th>\n",
       "      <th>idi</th>\n",
       "      <th>mfi</th>\n",
       "      <th>mpfi</th>\n",
       "      <th>spdi</th>\n",
       "    </tr>\n",
       "  </thead>\n",
       "  <tbody>\n",
       "    <tr>\n",
       "      <th>3</th>\n",
       "      <td>164.0</td>\n",
       "      <td>99.8</td>\n",
       "      <td>176.6</td>\n",
       "      <td>66.2</td>\n",
       "      <td>54.3</td>\n",
       "      <td>2337.0</td>\n",
       "      <td>109.0</td>\n",
       "      <td>3.19</td>\n",
       "      <td>3.4</td>\n",
       "      <td>10.0</td>\n",
       "      <td>...</td>\n",
       "      <td>0</td>\n",
       "      <td>1</td>\n",
       "      <td>0</td>\n",
       "      <td>0</td>\n",
       "      <td>0</td>\n",
       "      <td>0</td>\n",
       "      <td>0</td>\n",
       "      <td>0</td>\n",
       "      <td>1</td>\n",
       "      <td>0</td>\n",
       "    </tr>\n",
       "    <tr>\n",
       "      <th>4</th>\n",
       "      <td>164.0</td>\n",
       "      <td>99.4</td>\n",
       "      <td>176.6</td>\n",
       "      <td>66.4</td>\n",
       "      <td>54.3</td>\n",
       "      <td>2824.0</td>\n",
       "      <td>136.0</td>\n",
       "      <td>3.19</td>\n",
       "      <td>3.4</td>\n",
       "      <td>8.0</td>\n",
       "      <td>...</td>\n",
       "      <td>1</td>\n",
       "      <td>0</td>\n",
       "      <td>0</td>\n",
       "      <td>0</td>\n",
       "      <td>0</td>\n",
       "      <td>0</td>\n",
       "      <td>0</td>\n",
       "      <td>0</td>\n",
       "      <td>1</td>\n",
       "      <td>0</td>\n",
       "    </tr>\n",
       "    <tr>\n",
       "      <th>6</th>\n",
       "      <td>158.0</td>\n",
       "      <td>105.8</td>\n",
       "      <td>192.7</td>\n",
       "      <td>71.4</td>\n",
       "      <td>55.7</td>\n",
       "      <td>2844.0</td>\n",
       "      <td>136.0</td>\n",
       "      <td>3.19</td>\n",
       "      <td>3.4</td>\n",
       "      <td>8.5</td>\n",
       "      <td>...</td>\n",
       "      <td>1</td>\n",
       "      <td>0</td>\n",
       "      <td>0</td>\n",
       "      <td>0</td>\n",
       "      <td>0</td>\n",
       "      <td>0</td>\n",
       "      <td>0</td>\n",
       "      <td>0</td>\n",
       "      <td>1</td>\n",
       "      <td>0</td>\n",
       "    </tr>\n",
       "    <tr>\n",
       "      <th>8</th>\n",
       "      <td>158.0</td>\n",
       "      <td>105.8</td>\n",
       "      <td>192.7</td>\n",
       "      <td>71.4</td>\n",
       "      <td>55.9</td>\n",
       "      <td>3086.0</td>\n",
       "      <td>131.0</td>\n",
       "      <td>3.13</td>\n",
       "      <td>3.4</td>\n",
       "      <td>8.3</td>\n",
       "      <td>...</td>\n",
       "      <td>1</td>\n",
       "      <td>0</td>\n",
       "      <td>0</td>\n",
       "      <td>0</td>\n",
       "      <td>0</td>\n",
       "      <td>0</td>\n",
       "      <td>0</td>\n",
       "      <td>0</td>\n",
       "      <td>1</td>\n",
       "      <td>0</td>\n",
       "    </tr>\n",
       "    <tr>\n",
       "      <th>10</th>\n",
       "      <td>192.0</td>\n",
       "      <td>101.2</td>\n",
       "      <td>176.8</td>\n",
       "      <td>64.8</td>\n",
       "      <td>54.3</td>\n",
       "      <td>2395.0</td>\n",
       "      <td>108.0</td>\n",
       "      <td>3.50</td>\n",
       "      <td>2.8</td>\n",
       "      <td>8.8</td>\n",
       "      <td>...</td>\n",
       "      <td>0</td>\n",
       "      <td>1</td>\n",
       "      <td>0</td>\n",
       "      <td>0</td>\n",
       "      <td>0</td>\n",
       "      <td>0</td>\n",
       "      <td>0</td>\n",
       "      <td>0</td>\n",
       "      <td>1</td>\n",
       "      <td>0</td>\n",
       "    </tr>\n",
       "  </tbody>\n",
       "</table>\n",
       "<p>5 rows × 63 columns</p>\n",
       "</div>"
      ],
      "text/plain": [
       "    normalized-losses  wheel-base  length  width  height  curb-weight  \\\n",
       "3               164.0        99.8   176.6   66.2    54.3       2337.0   \n",
       "4               164.0        99.4   176.6   66.4    54.3       2824.0   \n",
       "6               158.0       105.8   192.7   71.4    55.7       2844.0   \n",
       "8               158.0       105.8   192.7   71.4    55.9       3086.0   \n",
       "10              192.0       101.2   176.8   64.8    54.3       2395.0   \n",
       "\n",
       "    engine-size  bore  stroke  compression-ratio  ...   five  four_y  six  \\\n",
       "3         109.0  3.19     3.4               10.0  ...      0       1    0   \n",
       "4         136.0  3.19     3.4                8.0  ...      1       0    0   \n",
       "6         136.0  3.19     3.4                8.5  ...      1       0    0   \n",
       "8         131.0  3.13     3.4                8.3  ...      1       0    0   \n",
       "10        108.0  3.50     2.8                8.8  ...      0       1    0   \n",
       "\n",
       "    three  1bbl  2bbl  idi  mfi  mpfi  spdi  \n",
       "3       0     0     0    0    0     1     0  \n",
       "4       0     0     0    0    0     1     0  \n",
       "6       0     0     0    0    0     1     0  \n",
       "8       0     0     0    0    0     1     0  \n",
       "10      0     0     0    0    0     1     0  \n",
       "\n",
       "[5 rows x 63 columns]"
      ]
     },
     "execution_count": 10,
     "metadata": {},
     "output_type": "execute_result"
    }
   ],
   "source": [
    "df.head(5)"
   ]
  },
  {
   "cell_type": "markdown",
   "metadata": {},
   "source": [
    "## Regression via Neural Network"
   ]
  },
  {
   "cell_type": "code",
   "execution_count": 11,
   "metadata": {
    "collapsed": true
   },
   "outputs": [],
   "source": [
    "from sklearn import preprocessing\n",
    "from sklearn.neural_network import MLPRegressor"
   ]
  },
  {
   "cell_type": "code",
   "execution_count": 12,
   "metadata": {
    "collapsed": true
   },
   "outputs": [],
   "source": [
    "target_column = 'normalized-losses'"
   ]
  },
  {
   "cell_type": "code",
   "execution_count": 13,
   "metadata": {},
   "outputs": [],
   "source": [
    "# df_y is flattened to conform with the shape requested by MLPRegressor\n",
    "df_X = df.loc[:, ~df.columns.isin([target_column])].values\n",
    "df_y = df.loc[:, df.columns.isin([target_column])].values.flatten()"
   ]
  },
  {
   "cell_type": "code",
   "execution_count": 14,
   "metadata": {},
   "outputs": [],
   "source": [
    "# fit and transform df_X as neural networks work better with normalized input\n",
    "scaler_X = preprocessing.StandardScaler()\n",
    "scaler_X.fit(df_X)\n",
    "df_X_scaled = scaler_X.fit_transform(df_X)"
   ]
  },
  {
   "cell_type": "code",
   "execution_count": 15,
   "metadata": {
    "scrolled": false
   },
   "outputs": [
    {
     "name": "stdout",
     "output_type": "stream",
     "text": [
      "Iteration 1, loss = 3175.79150602\n",
      "Validation score: -0.786007\n",
      "Iteration 2, loss = 1062.94381530\n",
      "Validation score: 0.140693\n",
      "Iteration 3, loss = 449.32126904\n",
      "Validation score: 0.194784\n",
      "Iteration 4, loss = 398.50769744\n",
      "Validation score: 0.312362\n",
      "Iteration 5, loss = 185.54035877\n",
      "Validation score: 0.376407\n",
      "Iteration 6, loss = 141.29817585\n",
      "Validation score: 0.542682\n",
      "Iteration 7, loss = 107.37740853\n",
      "Validation score: 0.554861\n",
      "Iteration 8, loss = 87.36577467\n",
      "Validation score: 0.628863\n",
      "Iteration 9, loss = 75.38990251\n",
      "Validation score: 0.443027\n",
      "Iteration 10, loss = 77.70427348\n",
      "Validation score: 0.638176\n",
      "Iteration 11, loss = 62.01932625\n",
      "Validation score: 0.673393\n",
      "Iteration 12, loss = 37.85936517\n",
      "Validation score: 0.662377\n",
      "Iteration 13, loss = 33.38031808\n",
      "Validation score: 0.682611\n",
      "Iteration 14, loss = 25.75584558\n",
      "Validation score: 0.686492\n",
      "Validation score did not improve more than tol=0.010000 for two consecutive epochs. Setting learning rate to 0.002000\n",
      "Iteration 15, loss = 26.99848324\n",
      "Validation score: 0.710439\n",
      "Iteration 16, loss = 19.24172814\n",
      "Validation score: 0.705728\n",
      "Iteration 17, loss = 17.92107853\n",
      "Validation score: 0.704853\n",
      "Iteration 18, loss = 15.94237059\n",
      "Validation score: 0.721852\n",
      "Iteration 19, loss = 15.27496536\n",
      "Validation score: 0.717584\n",
      "Iteration 20, loss = 14.90797586\n",
      "Validation score: 0.720121\n",
      "Iteration 21, loss = 13.92592979\n",
      "Validation score: 0.721742\n",
      "Validation score did not improve more than tol=0.010000 for two consecutive epochs. Setting learning rate to 0.000400\n",
      "Iteration 22, loss = 12.96774134\n",
      "Validation score: 0.722016\n",
      "Iteration 23, loss = 12.79904561\n",
      "Validation score: 0.725199\n",
      "Iteration 24, loss = 12.63895276\n",
      "Validation score: 0.726675\n",
      "Validation score did not improve more than tol=0.010000 for two consecutive epochs. Setting learning rate to 0.000080\n",
      "Iteration 25, loss = 12.44836965\n",
      "Validation score: 0.726823\n",
      "Iteration 26, loss = 12.37662469\n",
      "Validation score: 0.726927\n",
      "Iteration 27, loss = 12.32843035\n",
      "Validation score: 0.727000\n",
      "Validation score did not improve more than tol=0.010000 for two consecutive epochs. Setting learning rate to 0.000016\n",
      "Iteration 28, loss = 12.29216196\n",
      "Validation score: 0.727096\n",
      "Iteration 29, loss = 12.27943973\n",
      "Validation score: 0.727120\n",
      "Iteration 30, loss = 12.27181600\n",
      "Validation score: 0.727086\n",
      "Validation score did not improve more than tol=0.010000 for two consecutive epochs. Setting learning rate to 0.000003\n",
      "Iteration 31, loss = 12.26251929\n",
      "Validation score: 0.727049\n",
      "Iteration 32, loss = 12.25808645\n",
      "Validation score: 0.727029\n",
      "Iteration 33, loss = 12.25560739\n",
      "Validation score: 0.727018\n",
      "Validation score did not improve more than tol=0.010000 for two consecutive epochs. Setting learning rate to 0.000001\n",
      "Iteration 34, loss = 12.25371582\n",
      "Validation score: 0.727010\n",
      "Iteration 35, loss = 12.25277850\n",
      "Validation score: 0.727004\n",
      "Iteration 36, loss = 12.25233853\n",
      "Validation score: 0.727000\n",
      "Validation score did not improve more than tol=0.010000 for two consecutive epochs. Learning rate too small. Stopping.\n"
     ]
    },
    {
     "data": {
      "text/plain": [
       "MLPRegressor(activation='logistic', alpha=0.001, batch_size=20, beta_1=0.9,\n",
       "       beta_2=0.999, early_stopping=True, epsilon=1e-08,\n",
       "       hidden_layer_sizes=200, learning_rate='adaptive',\n",
       "       learning_rate_init=0.01, max_iter=1000, momentum=0.9,\n",
       "       nesterovs_momentum=True, power_t=0.5, random_state=None,\n",
       "       shuffle=True, solver='sgd', tol=0.01, validation_fraction=0.2,\n",
       "       verbose=True, warm_start=False)"
      ]
     },
     "execution_count": 15,
     "metadata": {},
     "output_type": "execute_result"
    }
   ],
   "source": [
    "model = MLPRegressor(activation='logistic', max_iter=1000, hidden_layer_sizes=(200),\n",
    "                     learning_rate='adaptive', learning_rate_init=0.01, solver='sgd', alpha=0.001,\n",
    "                     batch_size=20, verbose=True, tol=0.01, early_stopping=True,\n",
    "                     validation_fraction=0.2, warm_start=False)\n",
    "model.fit(df_X_scaled, df_y)"
   ]
  },
  {
   "cell_type": "code",
   "execution_count": 16,
   "metadata": {},
   "outputs": [
    {
     "data": {
      "text/plain": [
       "<matplotlib.text.Text at 0x1e7d5cd00f0>"
      ]
     },
     "execution_count": 16,
     "metadata": {},
     "output_type": "execute_result"
    },
    {
     "data": {
      "image/png": "[encoded data removed]",
      "text/plain": [
       "<matplotlib.figure.Figure at 0x1e7d5af14a8>"
      ]
     },
     "metadata": {},
     "output_type": "display_data"
    }
   ],
   "source": [
    "# plotting the result\n",
    "plt.figure(figsize=(12, 6))\n",
    "plt.scatter(model.predict(df_X_scaled), df_y)\n",
    "plt.xlabel('predicted value of normalized-losses')\n",
    "plt.ylabel('actual value of normalized-losses')"
   ]
  },
  {
   "cell_type": "code",
   "execution_count": 17,
   "metadata": {},
   "outputs": [
    {
     "data": {
      "text/plain": [
       "0.93251554732970476"
      ]
     },
     "execution_count": 17,
     "metadata": {},
     "output_type": "execute_result"
    }
   ],
   "source": [
    "model.score(df_X_scaled, df_y)"
   ]
  },
  {
   "cell_type": "markdown",
   "metadata": {},
   "source": [
    "### Discussion\n",
    "--------\n",
    "Perhaps due to small sample size, if ``random_state`` is not set to ``0``, the model seem to converge to widely different points even with the same parameters. As for the choice of parameters:\n",
    "\n",
    "* activation function: ``logistic`` seems to work best, i.e. converging to a more desirable result (with loss value below 20, and the final score above 0.8) most frequently. ``relu`` often diverges if the parameters are not carefully controlled for.\n",
    "* hidden layer size: there does not seem to be any significant performance gain in terms of the final score going beyond 200 nodes. as the sample size is rather small and we are not concerned with computational efficiency at this time, due to the universal approximation theorem and the choice of the activation function, we do not need to experiment with multiple hidden layers.\n",
    "* solver: ``sgd`` performs better than the default choice ``adam``.\n",
    "* batch size: 20 seems to work well. due to small sample size, the error manifold is likely to be very non-convex, meaning there are too many local extrema that the model cannot get out of once stuck. the result is that full gradient descent method most likely converges to bad values.\n",
    "* alpha (penalty) and tolerance: does not seem to affect performance unless set very high. perhaps high values might need to be used to mitigate possible overfitting and further analysis is required.\n",
    "* early stopping and validation fraction: early stopping is set to ``true`` to deal with overfitting. validation fraction is set to 0.2 as opposed to the default value of 0.1 to somewhat mitigate the problem of the validation sample size being too small."
   ]
  },
  {
   "cell_type": "markdown",
   "metadata": {},
   "source": [
    "### Questions\n",
    "--------\n",
    "* why does relu fail?\n",
    "* what are good values for tolerance and penalty?\n",
    "* how trustworthy is the cross validation method used here?\n",
    "* what about validation fraction value?\n",
    "* how do we know if the model was not trained to be overfitted?\n",
    "* if ``warm_start`` is set to ``True`` and we fit the model over and over again, it is possible to get a score arbitrarily close to 1. why is this the case?"
   ]
  },
  {
   "cell_type": "markdown",
   "metadata": {},
   "source": [
    "## Linear Regression via Ordinary Least Squares\n",
    "--------\n",
    "Simple OLS is employed here as a comparison to the neural network model above. Obviously, without proper model analysis, the result below is grossly overfitted simple linear model."
   ]
  },
  {
   "cell_type": "code",
   "execution_count": 18,
   "metadata": {
    "collapsed": true
   },
   "outputs": [],
   "source": [
    "from sklearn import feature_selection"
   ]
  },
  {
   "cell_type": "code",
   "execution_count": 19,
   "metadata": {},
   "outputs": [
    {
     "name": "stdout",
     "output_type": "stream",
     "text": [
      "                            OLS Regression Results                            \n",
      "==============================================================================\n",
      "Dep. Variable:                      y   R-squared:                       0.826\n",
      "Model:                            OLS   Adj. R-squared:                  0.746\n",
      "Method:                 Least Squares   F-statistic:                     10.28\n",
      "Date:                Fri, 01 Sep 2017   Prob (F-statistic):           7.85e-24\n",
      "Time:                        01:10:19   Log-Likelihood:                -654.16\n",
      "No. Observations:                 159   AIC:                             1410.\n",
      "Df Residuals:                     108   BIC:                             1567.\n",
      "Df Model:                          50                                         \n",
      "Covariance Type:            nonrobust                                         \n",
      "==============================================================================\n",
      "                 coef    std err          t      P>|t|      [0.025      0.975]\n",
      "------------------------------------------------------------------------------\n",
      "x1            -1.3220      1.341     -0.986      0.326      -3.979       1.335\n",
      "x2             0.3935      0.596      0.660      0.510      -0.787       1.574\n",
      "x3             0.6085      3.177      0.192      0.848      -5.689       6.906\n",
      "x4            -6.7248      1.783     -3.772      0.000     -10.259      -3.191\n",
      "x5             0.0236      0.021      1.110      0.269      -0.019       0.066\n",
      "x6             0.1770      0.359      0.493      0.623      -0.534       0.889\n",
      "x7           -25.6159     21.901     -1.170      0.245     -69.028      17.796\n",
      "x8             1.9246     14.626      0.132      0.896     -27.067      30.916\n",
      "x9            -8.2158      5.915     -1.389      0.168     -19.941       3.509\n",
      "x10           -0.3527      0.294     -1.200      0.233      -0.935       0.230\n",
      "x11            0.0116      0.009      1.339      0.183      -0.006       0.029\n",
      "x12            1.1402      1.589      0.718      0.474      -2.009       4.289\n",
      "x13           -1.0298      1.370     -0.752      0.454      -3.745       1.686\n",
      "x14            0.0013      0.001      0.899      0.371      -0.002       0.004\n",
      "x15           81.5928     20.466      3.987      0.000      41.026     122.159\n",
      "x16           58.1779     16.781      3.467      0.001      24.915      91.441\n",
      "x17          -20.4461     15.358     -1.331      0.186     -50.888       9.996\n",
      "x18           16.2822     11.008      1.479      0.142      -5.538      38.103\n",
      "x19          -23.4976     16.121     -1.458      0.148     -55.452       8.457\n",
      "x20          -55.7692     32.633     -1.709      0.090    -120.454       8.916\n",
      "x21           11.2508      9.438      1.192      0.236      -7.458      29.960\n",
      "x22          -16.5238     25.699     -0.643      0.522     -67.463      34.416\n",
      "x23           21.7344     11.076      1.962      0.052      -0.221      43.690\n",
      "x24           24.4436      8.754      2.792      0.006       7.092      41.795\n",
      "x25            4.0294     16.446      0.245      0.807     -28.569      36.628\n",
      "x26           16.0765     11.088      1.450      0.150      -5.901      38.054\n",
      "x27           21.6161     27.731      0.779      0.437     -33.351      76.584\n",
      "x28           38.5071     17.350      2.219      0.029       4.116      72.898\n",
      "x29           18.0342     11.806      1.528      0.130      -5.366      41.435\n",
      "x30           -5.3010      8.250     -0.643      0.522     -21.653      11.051\n",
      "x31           40.0763     11.671      3.434      0.001      16.943      63.209\n",
      "x32          -22.4941     14.075     -1.598      0.113     -50.394       5.405\n",
      "x33          108.4198     41.255      2.628      0.010      26.645     190.195\n",
      "x34           99.3696     50.207      1.979      0.050      -0.149     198.888\n",
      "x35          107.6366     39.162      2.749      0.007      30.012     185.262\n",
      "x36          100.1528     38.770      2.583      0.011      23.305     177.001\n",
      "x37           97.3950     39.015      2.496      0.014      20.061     174.729\n",
      "x38          110.3944     38.530      2.865      0.005      34.021     186.768\n",
      "x39           29.6897     23.631      1.256      0.212     -17.152      76.531\n",
      "x40           45.9028     17.538      2.617      0.010      11.140      80.666\n",
      "x41           44.6009     15.930      2.800      0.006      13.025      76.177\n",
      "x42           44.0242     16.589      2.654      0.009      11.141      76.907\n",
      "x43           43.5718     18.102      2.407      0.018       7.690      79.454\n",
      "x44           60.4011     25.515      2.367      0.020       9.825     110.977\n",
      "x45           53.8591     26.675      2.019      0.046       0.984     106.734\n",
      "x46           93.5292     27.830      3.361      0.001      38.364     148.694\n",
      "x47           51.3026     22.188      2.312      0.023       7.323      95.282\n",
      "x48           69.5889     19.154      3.633      0.000      31.622     107.556\n",
      "x49           31.7160     16.797      1.888      0.062      -1.579      65.011\n",
      "x50           18.0342     11.806      1.528      0.130      -5.366      41.435\n",
      "x51           37.1478     22.466      1.653      0.101      -7.384      81.680\n",
      "x52           -2.0984     37.267     -0.056      0.955     -75.969      71.772\n",
      "x53           28.9499     27.269      1.062      0.291     -25.101      83.001\n",
      "x54           61.9161     23.897      2.591      0.011      14.548     109.284\n",
      "x55           53.4623     21.286      2.512      0.013      11.269      95.655\n",
      "x56           65.5595     23.296      2.814      0.006      19.383     111.736\n",
      "x57           37.1938     17.641      2.108      0.037       2.226      72.162\n",
      "x58           25.6174     11.351      2.257      0.026       3.118      48.117\n",
      "x59          108.4198     41.255      2.628      0.010      26.645     190.195\n",
      "x60            9.7101     22.461      0.432      0.666     -34.811      54.231\n",
      "x61           13.7806     11.954      1.153      0.252      -9.914      37.475\n",
      "x62           13.0678     14.358      0.910      0.365     -15.393      41.528\n",
      "==============================================================================\n",
      "Omnibus:                       63.743   Durbin-Watson:                   1.875\n",
      "Prob(Omnibus):                  0.000   Jarque-Bera (JB):              450.612\n",
      "Skew:                           1.237   Prob(JB):                     1.41e-98\n",
      "Kurtosis:                      10.868   Cond. No.                     1.07e+16\n",
      "==============================================================================\n",
      "\n",
      "Warnings:\n",
      "[1] Standard Errors assume that the covariance matrix of the errors is correctly specified.\n",
      "[2] The smallest eigenvalue is 2.67e-22. This might indicate that there are\n",
      "strong multicollinearity problems or that the design matrix is singular.\n"
     ]
    }
   ],
   "source": [
    "model = sm.OLS(df_y, df_X)\n",
    "result = model.fit()\n",
    "print(result.summary())"
   ]
  },
  {
   "cell_type": "code",
   "execution_count": 20,
   "metadata": {},
   "outputs": [
    {
     "data": {
      "text/plain": [
       "<matplotlib.collections.PathCollection at 0x1e7d827c4a8>"
      ]
     },
     "execution_count": 20,
     "metadata": {},
     "output_type": "execute_result"
    },
    {
     "data": {
      "image/png": "[encoded data removed]",
      "text/plain": [
       "<matplotlib.figure.Figure at 0x1e7d834a278>"
      ]
     },
     "metadata": {},
     "output_type": "display_data"
    }
   ],
   "source": [
    "plt.scatter(result.predict(df_X), df_y)"
   ]
  },
  {
   "cell_type": "markdown",
   "metadata": {},
   "source": [
    "## Dealing with Overfitting"
   ]
  },
  {
   "cell_type": "code",
   "execution_count": 21,
   "metadata": {
    "collapsed": true
   },
   "outputs": [],
   "source": [
    "from sklearn.model_selection import train_test_split"
   ]
  },
  {
   "cell_type": "code",
   "execution_count": 22,
   "metadata": {
    "collapsed": true
   },
   "outputs": [],
   "source": [
    "def get_average_score(model, n_trials=10, test_split=0.2):\n",
    "    total_score = 0\n",
    "    train_score = 0\n",
    "    test_score = 0\n",
    "    mape_score = 0\n",
    "    plt.figure(figsize=(12, 6))\n",
    "    for i in range(n_trials):\n",
    "        X_train, X_test, y_train, y_test = train_test_split(\n",
    "            df_X_scaled, df_y, test_size=test_split)\n",
    "        model.fit(X_train, y_train)\n",
    "        total_score += model.score(df_X_scaled, df_y) / n_trials\n",
    "        train_score += model.score(X_train, y_train) / n_trials\n",
    "        test_score += model.score(X_test, y_test) / n_trials\n",
    "        mape_score += (((np.abs(y_test - model.predict(X_test)) / y_test).sum() / y_test.size) * 100) / n_trials\n",
    "        plt.scatter(model.predict(X_train), y_train, c='b', alpha=0.4)\n",
    "        plt.scatter(model.predict(X_test), y_test, s=10 ** 2, c='r', alpha=0.8)\n",
    "    return total_score, train_score, test_score, mape_score"
   ]
  },
  {
   "cell_type": "code",
   "execution_count": 23,
   "metadata": {},
   "outputs": [
    {
     "data": {
      "image/png": "[encoded data removed]",
      "text/plain": [
       "<matplotlib.figure.Figure at 0x1e7d82ab940>"
      ]
     },
     "metadata": {},
     "output_type": "display_data"
    }
   ],
   "source": [
    "model = MLPRegressor(activation='logistic', max_iter=1000, hidden_layer_sizes=(40),\n",
    "                 learning_rate='adaptive', learning_rate_init=0.01, solver='sgd', alpha=1,\n",
    "                 batch_size=20, verbose=False, tol=1, early_stopping=False,\n",
    "                 validation_fraction=0.2, warm_start=False)\n",
    "\n",
    "total_score, train_score, test_score, mape_score = get_average_score(model, n_trials=10, test_split=0.2)"
   ]
  },
  {
   "cell_type": "code",
   "execution_count": 24,
   "metadata": {},
   "outputs": [
    {
     "name": "stdout",
     "output_type": "stream",
     "text": [
      "average score for all samples: 0.935\n",
      "average score for train samples: 0.971\n",
      "average score for test samples: 0.780\n",
      "average mape score for test samples: 8.19%\n"
     ]
    }
   ],
   "source": [
    "print('average score for all samples: {:.3f}'.format(total_score))\n",
    "print('average score for train samples: {:.3f}'.format(train_score))\n",
    "print('average score for test samples: {:.3f}'.format(test_score))\n",
    "print('average mape score for test samples: {:.2f}%'.format(mape_score))"
   ]
  },
  {
   "cell_type": "markdown",
   "metadata": {},
   "source": [
    "### Discussion\n",
    "--------\n",
    "Since the set of validation samples is fixed in the first analysis of MLP, it is hard to check the integrity and the efficacy of the model used. When ``warm_start`` is set to ``True``, it is even possible to get a score arbitrarily close to 1. One possible explanation of this phenomenon would be that a new validation set being set aside for each fit, thus the result from a previous training set leaking into the new validation set in the next run. Aside from this, validation score varies wildly for each fit due to the small sample size. As validation score better represents the true predictive power of the model, we aim for a model that gives high validation score. Parameters are newly optimized for this purpose.\n",
    "\n",
    "Also mentioned in the description in the file ``import-85.names`` is the use of the mean absolute percentage error (MAPE) metric. So we have tested the model above using the MAPE metric on the validation set and have obtained around 8%, which is better than those cited (11.84% for IBL kNN and 14.12% for linear regression)."
   ]
  },
  {
   "cell_type": "code",
   "execution_count": null,
   "metadata": {
    "collapsed": true
   },
   "outputs": [],
   "source": []
  }
 ],
 "metadata": {
  "kernelspec": {
   "display_name": "Python [conda root]",
   "language": "python",
   "name": "conda-root-py"
  },
  "language_info": {
   "codemirror_mode": {
    "name": "ipython",
    "version": 3
   },
   "file_extension": ".py",
   "mimetype": "text/x-python",
   "name": "python",
   "nbconvert_exporter": "python",
   "pygments_lexer": "ipython3",
   "version": "3.6.1"
  }
 },
 "nbformat": 4,
 "nbformat_minor": 2
}
